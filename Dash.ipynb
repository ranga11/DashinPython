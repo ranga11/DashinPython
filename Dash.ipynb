{
 "cells": [
  {
   "cell_type": "code",
   "execution_count": 13,
   "metadata": {},
   "outputs": [
    {
     "name": "stdout",
     "output_type": "stream",
     "text": [
      "Collecting dash_renderer\n",
      "  Downloading https://files.pythonhosted.org/packages/98/12/8176efede4139bc31b076b0e44a0f4cb002ead600ea4fd84e2ac8afd81cc/dash_renderer-0.13.0.tar.gz (160kB)\n",
      "Building wheels for collected packages: dash-renderer\n",
      "  Running setup.py bdist_wheel for dash-renderer: started\n",
      "  Running setup.py bdist_wheel for dash-renderer: finished with status 'done'\n",
      "  Stored in directory: C:\\Users\\Ranga Chari\\AppData\\Local\\pip\\Cache\\wheels\\b4\\b3\\65\\c4985d8d3394311d4b6e15c02c12dc963b28590c3048d01c77\n",
      "Successfully built dash-renderer\n",
      "Installing collected packages: dash-renderer\n",
      "Successfully installed dash-renderer-0.13.0\n"
     ]
    }
   ],
   "source": [
    "!pip install dash_renderer"
   ]
  },
  {
   "cell_type": "code",
   "execution_count": 19,
   "metadata": {},
   "outputs": [
    {
     "name": "stdout",
     "output_type": "stream",
     "text": [
      "Collecting dash==0.17.7\n",
      "  Downloading https://files.pythonhosted.org/packages/5d/10/74b7c71faa68e89a1c693ea102a1638451cb476daca61ac3cfeaad886329/dash-0.17.7.tar.gz\n",
      "Requirement already satisfied: Flask>=0.12 in c:\\users\\ranga chari\\anaconda3\\lib\\site-packages (from dash==0.17.7) (0.12.2)\n",
      "Requirement already satisfied: flask-compress in c:\\users\\ranga chari\\anaconda3\\lib\\site-packages (from dash==0.17.7) (1.4.0)\n",
      "Requirement already satisfied: flask-seasurf in c:\\users\\ranga chari\\anaconda3\\lib\\site-packages (from dash==0.17.7) (0.2.2)\n",
      "Requirement already satisfied: plotly in c:\\users\\ranga chari\\anaconda3\\lib\\site-packages (from dash==0.17.7) (2.5.1)\n",
      "Requirement already satisfied: Werkzeug>=0.7 in c:\\users\\ranga chari\\anaconda3\\lib\\site-packages (from Flask>=0.12->dash==0.17.7) (0.14.1)\n",
      "Requirement already satisfied: Jinja2>=2.4 in c:\\users\\ranga chari\\anaconda3\\lib\\site-packages (from Flask>=0.12->dash==0.17.7) (2.10)\n",
      "Requirement already satisfied: itsdangerous>=0.21 in c:\\users\\ranga chari\\anaconda3\\lib\\site-packages (from Flask>=0.12->dash==0.17.7) (0.24)\n",
      "Requirement already satisfied: click>=2.0 in c:\\users\\ranga chari\\anaconda3\\lib\\site-packages (from Flask>=0.12->dash==0.17.7) (6.7)\n",
      "Requirement already satisfied: decorator>=4.0.6 in c:\\users\\ranga chari\\anaconda3\\lib\\site-packages (from plotly->dash==0.17.7) (4.3.0)\n",
      "Requirement already satisfied: six in c:\\users\\ranga chari\\anaconda3\\lib\\site-packages (from plotly->dash==0.17.7) (1.11.0)\n",
      "Requirement already satisfied: pytz in c:\\users\\ranga chari\\anaconda3\\lib\\site-packages (from plotly->dash==0.17.7) (2018.4)\n",
      "Requirement already satisfied: nbformat>=4.2 in c:\\users\\ranga chari\\anaconda3\\lib\\site-packages (from plotly->dash==0.17.7) (4.4.0)\n",
      "Requirement already satisfied: requests in c:\\users\\ranga chari\\anaconda3\\lib\\site-packages (from plotly->dash==0.17.7) (2.18.4)\n",
      "Requirement already satisfied: MarkupSafe>=0.23 in c:\\users\\ranga chari\\anaconda3\\lib\\site-packages (from Jinja2>=2.4->Flask>=0.12->dash==0.17.7) (1.0)\n",
      "Requirement already satisfied: ipython_genutils in c:\\users\\ranga chari\\anaconda3\\lib\\site-packages (from nbformat>=4.2->plotly->dash==0.17.7) (0.2.0)\n",
      "Requirement already satisfied: traitlets>=4.1 in c:\\users\\ranga chari\\anaconda3\\lib\\site-packages (from nbformat>=4.2->plotly->dash==0.17.7) (4.3.2)\n",
      "Requirement already satisfied: jsonschema!=2.5.0,>=2.4 in c:\\users\\ranga chari\\anaconda3\\lib\\site-packages (from nbformat>=4.2->plotly->dash==0.17.7) (2.6.0)\n",
      "Requirement already satisfied: jupyter_core in c:\\users\\ranga chari\\anaconda3\\lib\\site-packages (from nbformat>=4.2->plotly->dash==0.17.7) (4.4.0)\n",
      "Requirement already satisfied: chardet<3.1.0,>=3.0.2 in c:\\users\\ranga chari\\anaconda3\\lib\\site-packages (from requests->plotly->dash==0.17.7) (3.0.4)\n",
      "Requirement already satisfied: idna<2.7,>=2.5 in c:\\users\\ranga chari\\anaconda3\\lib\\site-packages (from requests->plotly->dash==0.17.7) (2.6)\n",
      "Requirement already satisfied: urllib3<1.23,>=1.21.1 in c:\\users\\ranga chari\\anaconda3\\lib\\site-packages (from requests->plotly->dash==0.17.7) (1.22)\n",
      "Requirement already satisfied: certifi>=2017.4.17 in c:\\users\\ranga chari\\anaconda3\\lib\\site-packages (from requests->plotly->dash==0.17.7) (2018.4.16)\n",
      "Building wheels for collected packages: dash\n",
      "  Running setup.py bdist_wheel for dash: started\n",
      "  Running setup.py bdist_wheel for dash: finished with status 'done'\n",
      "  Stored in directory: C:\\Users\\Ranga Chari\\AppData\\Local\\pip\\Cache\\wheels\\47\\5f\\5c\\88353f8c71bfb105000fe8ffd378f0ef671ac5bccadf417465\n",
      "Successfully built dash\n",
      "Installing collected packages: dash\n",
      "  Found existing installation: dash 0.21.0\n",
      "    Uninstalling dash-0.21.0:\n",
      "      Successfully uninstalled dash-0.21.0\n",
      "Successfully installed dash-0.17.7\n",
      "Collecting dash-renderer==0.7.3\n",
      "  Downloading https://files.pythonhosted.org/packages/2f/84/6a7c8359fb36bf0f53af754fda66507fc10cfc2d8852bf2f0fcb87e9e23f/dash_renderer-0.7.3.tar.gz (125kB)\n",
      "Building wheels for collected packages: dash-renderer\n",
      "  Running setup.py bdist_wheel for dash-renderer: started\n",
      "  Running setup.py bdist_wheel for dash-renderer: finished with status 'done'\n",
      "  Stored in directory: C:\\Users\\Ranga Chari\\AppData\\Local\\pip\\Cache\\wheels\\eb\\68\\e9\\38b4a661f2a46cf81f00201b2ef6775ce98316a5b7f51ae7be\n",
      "Successfully built dash-renderer\n",
      "Installing collected packages: dash-renderer\n",
      "  Found existing installation: dash-renderer 0.13.0\n",
      "    Uninstalling dash-renderer-0.13.0:\n",
      "      Successfully uninstalled dash-renderer-0.13.0\n",
      "Successfully installed dash-renderer-0.7.3\n",
      "Requirement already satisfied: dash-html-components==0.6.2 in c:\\users\\ranga chari\\anaconda3\\lib\\site-packages (0.6.2)\n",
      "Requirement already satisfied: dash in c:\\users\\ranga chari\\anaconda3\\lib\\site-packages (from dash-html-components==0.6.2) (0.17.7)\n",
      "Requirement already satisfied: plotly in c:\\users\\ranga chari\\anaconda3\\lib\\site-packages (from dash->dash-html-components==0.6.2) (2.5.1)\n",
      "Requirement already satisfied: flask-compress in c:\\users\\ranga chari\\anaconda3\\lib\\site-packages (from dash->dash-html-components==0.6.2) (1.4.0)\n",
      "Requirement already satisfied: Flask>=0.12 in c:\\users\\ranga chari\\anaconda3\\lib\\site-packages (from dash->dash-html-components==0.6.2) (0.12.2)\n",
      "Requirement already satisfied: flask-seasurf in c:\\users\\ranga chari\\anaconda3\\lib\\site-packages (from dash->dash-html-components==0.6.2) (0.2.2)\n",
      "Requirement already satisfied: nbformat>=4.2 in c:\\users\\ranga chari\\anaconda3\\lib\\site-packages (from plotly->dash->dash-html-components==0.6.2) (4.4.0)\n",
      "Requirement already satisfied: requests in c:\\users\\ranga chari\\anaconda3\\lib\\site-packages (from plotly->dash->dash-html-components==0.6.2) (2.18.4)\n",
      "Requirement already satisfied: pytz in c:\\users\\ranga chari\\anaconda3\\lib\\site-packages (from plotly->dash->dash-html-components==0.6.2) (2018.4)\n",
      "Requirement already satisfied: six in c:\\users\\ranga chari\\anaconda3\\lib\\site-packages (from plotly->dash->dash-html-components==0.6.2) (1.11.0)\n",
      "Requirement already satisfied: decorator>=4.0.6 in c:\\users\\ranga chari\\anaconda3\\lib\\site-packages (from plotly->dash->dash-html-components==0.6.2) (4.3.0)\n",
      "Requirement already satisfied: Werkzeug>=0.7 in c:\\users\\ranga chari\\anaconda3\\lib\\site-packages (from Flask>=0.12->dash->dash-html-components==0.6.2) (0.14.1)\n",
      "Requirement already satisfied: Jinja2>=2.4 in c:\\users\\ranga chari\\anaconda3\\lib\\site-packages (from Flask>=0.12->dash->dash-html-components==0.6.2) (2.10)\n",
      "Requirement already satisfied: itsdangerous>=0.21 in c:\\users\\ranga chari\\anaconda3\\lib\\site-packages (from Flask>=0.12->dash->dash-html-components==0.6.2) (0.24)\n",
      "Requirement already satisfied: click>=2.0 in c:\\users\\ranga chari\\anaconda3\\lib\\site-packages (from Flask>=0.12->dash->dash-html-components==0.6.2) (6.7)\n",
      "Requirement already satisfied: ipython_genutils in c:\\users\\ranga chari\\anaconda3\\lib\\site-packages (from nbformat>=4.2->plotly->dash->dash-html-components==0.6.2) (0.2.0)\n",
      "Requirement already satisfied: traitlets>=4.1 in c:\\users\\ranga chari\\anaconda3\\lib\\site-packages (from nbformat>=4.2->plotly->dash->dash-html-components==0.6.2) (4.3.2)\n",
      "Requirement already satisfied: jsonschema!=2.5.0,>=2.4 in c:\\users\\ranga chari\\anaconda3\\lib\\site-packages (from nbformat>=4.2->plotly->dash->dash-html-components==0.6.2) (2.6.0)\n",
      "Requirement already satisfied: jupyter_core in c:\\users\\ranga chari\\anaconda3\\lib\\site-packages (from nbformat>=4.2->plotly->dash->dash-html-components==0.6.2) (4.4.0)\n",
      "Requirement already satisfied: chardet<3.1.0,>=3.0.2 in c:\\users\\ranga chari\\anaconda3\\lib\\site-packages (from requests->plotly->dash->dash-html-components==0.6.2) (3.0.4)\n",
      "Requirement already satisfied: idna<2.7,>=2.5 in c:\\users\\ranga chari\\anaconda3\\lib\\site-packages (from requests->plotly->dash->dash-html-components==0.6.2) (2.6)\n",
      "Requirement already satisfied: urllib3<1.23,>=1.21.1 in c:\\users\\ranga chari\\anaconda3\\lib\\site-packages (from requests->plotly->dash->dash-html-components==0.6.2) (1.22)\n",
      "Requirement already satisfied: certifi>=2017.4.17 in c:\\users\\ranga chari\\anaconda3\\lib\\site-packages (from requests->plotly->dash->dash-html-components==0.6.2) (2018.4.16)\n",
      "Requirement already satisfied: MarkupSafe>=0.23 in c:\\users\\ranga chari\\anaconda3\\lib\\site-packages (from Jinja2>=2.4->Flask>=0.12->dash->dash-html-components==0.6.2) (1.0)\n"
     ]
    },
    {
     "name": "stdout",
     "output_type": "stream",
     "text": [
      "Collecting dash-core-components==0.5.3\n",
      "  Downloading https://files.pythonhosted.org/packages/c6/81/581fc880e47fb71559383a7b9edbe52f17743103e55f2cdaa00d4dd6c43e/dash_core_components-0.5.3.tar.gz (970kB)\n",
      "Requirement already satisfied: dash in c:\\users\\ranga chari\\anaconda3\\lib\\site-packages (from dash-core-components==0.5.3) (0.17.7)\n",
      "Requirement already satisfied: flask-compress in c:\\users\\ranga chari\\anaconda3\\lib\\site-packages (from dash->dash-core-components==0.5.3) (1.4.0)\n",
      "Requirement already satisfied: Flask>=0.12 in c:\\users\\ranga chari\\anaconda3\\lib\\site-packages (from dash->dash-core-components==0.5.3) (0.12.2)\n",
      "Requirement already satisfied: plotly in c:\\users\\ranga chari\\anaconda3\\lib\\site-packages (from dash->dash-core-components==0.5.3) (2.5.1)\n",
      "Requirement already satisfied: flask-seasurf in c:\\users\\ranga chari\\anaconda3\\lib\\site-packages (from dash->dash-core-components==0.5.3) (0.2.2)\n",
      "Requirement already satisfied: Werkzeug>=0.7 in c:\\users\\ranga chari\\anaconda3\\lib\\site-packages (from Flask>=0.12->dash->dash-core-components==0.5.3) (0.14.1)\n",
      "Requirement already satisfied: Jinja2>=2.4 in c:\\users\\ranga chari\\anaconda3\\lib\\site-packages (from Flask>=0.12->dash->dash-core-components==0.5.3) (2.10)\n",
      "Requirement already satisfied: itsdangerous>=0.21 in c:\\users\\ranga chari\\anaconda3\\lib\\site-packages (from Flask>=0.12->dash->dash-core-components==0.5.3) (0.24)\n",
      "Requirement already satisfied: click>=2.0 in c:\\users\\ranga chari\\anaconda3\\lib\\site-packages (from Flask>=0.12->dash->dash-core-components==0.5.3) (6.7)\n",
      "Requirement already satisfied: decorator>=4.0.6 in c:\\users\\ranga chari\\anaconda3\\lib\\site-packages (from plotly->dash->dash-core-components==0.5.3) (4.3.0)\n",
      "Requirement already satisfied: pytz in c:\\users\\ranga chari\\anaconda3\\lib\\site-packages (from plotly->dash->dash-core-components==0.5.3) (2018.4)\n",
      "Requirement already satisfied: six in c:\\users\\ranga chari\\anaconda3\\lib\\site-packages (from plotly->dash->dash-core-components==0.5.3) (1.11.0)\n",
      "Requirement already satisfied: requests in c:\\users\\ranga chari\\anaconda3\\lib\\site-packages (from plotly->dash->dash-core-components==0.5.3) (2.18.4)\n",
      "Requirement already satisfied: nbformat>=4.2 in c:\\users\\ranga chari\\anaconda3\\lib\\site-packages (from plotly->dash->dash-core-components==0.5.3) (4.4.0)\n",
      "Requirement already satisfied: MarkupSafe>=0.23 in c:\\users\\ranga chari\\anaconda3\\lib\\site-packages (from Jinja2>=2.4->Flask>=0.12->dash->dash-core-components==0.5.3) (1.0)\n",
      "Requirement already satisfied: chardet<3.1.0,>=3.0.2 in c:\\users\\ranga chari\\anaconda3\\lib\\site-packages (from requests->plotly->dash->dash-core-components==0.5.3) (3.0.4)\n",
      "Requirement already satisfied: idna<2.7,>=2.5 in c:\\users\\ranga chari\\anaconda3\\lib\\site-packages (from requests->plotly->dash->dash-core-components==0.5.3) (2.6)\n",
      "Requirement already satisfied: urllib3<1.23,>=1.21.1 in c:\\users\\ranga chari\\anaconda3\\lib\\site-packages (from requests->plotly->dash->dash-core-components==0.5.3) (1.22)\n",
      "Requirement already satisfied: certifi>=2017.4.17 in c:\\users\\ranga chari\\anaconda3\\lib\\site-packages (from requests->plotly->dash->dash-core-components==0.5.3) (2018.4.16)\n",
      "Requirement already satisfied: ipython_genutils in c:\\users\\ranga chari\\anaconda3\\lib\\site-packages (from nbformat>=4.2->plotly->dash->dash-core-components==0.5.3) (0.2.0)\n",
      "Requirement already satisfied: traitlets>=4.1 in c:\\users\\ranga chari\\anaconda3\\lib\\site-packages (from nbformat>=4.2->plotly->dash->dash-core-components==0.5.3) (4.3.2)\n",
      "Requirement already satisfied: jsonschema!=2.5.0,>=2.4 in c:\\users\\ranga chari\\anaconda3\\lib\\site-packages (from nbformat>=4.2->plotly->dash->dash-core-components==0.5.3) (2.6.0)\n",
      "Requirement already satisfied: jupyter_core in c:\\users\\ranga chari\\anaconda3\\lib\\site-packages (from nbformat>=4.2->plotly->dash->dash-core-components==0.5.3) (4.4.0)\n",
      "Building wheels for collected packages: dash-core-components\n",
      "  Running setup.py bdist_wheel for dash-core-components: started\n",
      "  Running setup.py bdist_wheel for dash-core-components: finished with status 'done'\n",
      "  Stored in directory: C:\\Users\\Ranga Chari\\AppData\\Local\\pip\\Cache\\wheels\\29\\eb\\29\\3226734e7e0d74039fccca33faf17598d3b57c014760fee5fa\n",
      "Successfully built dash-core-components\n",
      "Installing collected packages: dash-core-components\n",
      "Successfully installed dash-core-components-0.5.3\n",
      "Collecting plotly==2.0.12\n",
      "  Downloading https://files.pythonhosted.org/packages/84/65/e863f14c112c84898602927e0da1d63dd3020143bb365d3f1e3c20d5a2d2/plotly-2.0.12.tar.gz (1.0MB)\n",
      "Requirement already satisfied: decorator>=4.0.6 in c:\\users\\ranga chari\\anaconda3\\lib\\site-packages (from plotly==2.0.12) (4.3.0)\n",
      "Requirement already satisfied: nbformat>=4.2 in c:\\users\\ranga chari\\anaconda3\\lib\\site-packages (from plotly==2.0.12) (4.4.0)\n",
      "Requirement already satisfied: pytz in c:\\users\\ranga chari\\anaconda3\\lib\\site-packages (from plotly==2.0.12) (2018.4)\n",
      "Requirement already satisfied: requests in c:\\users\\ranga chari\\anaconda3\\lib\\site-packages (from plotly==2.0.12) (2.18.4)\n",
      "Requirement already satisfied: six in c:\\users\\ranga chari\\anaconda3\\lib\\site-packages (from plotly==2.0.12) (1.11.0)\n",
      "Requirement already satisfied: ipython_genutils in c:\\users\\ranga chari\\anaconda3\\lib\\site-packages (from nbformat>=4.2->plotly==2.0.12) (0.2.0)\n",
      "Requirement already satisfied: traitlets>=4.1 in c:\\users\\ranga chari\\anaconda3\\lib\\site-packages (from nbformat>=4.2->plotly==2.0.12) (4.3.2)\n",
      "Requirement already satisfied: jsonschema!=2.5.0,>=2.4 in c:\\users\\ranga chari\\anaconda3\\lib\\site-packages (from nbformat>=4.2->plotly==2.0.12) (2.6.0)\n",
      "Requirement already satisfied: jupyter_core in c:\\users\\ranga chari\\anaconda3\\lib\\site-packages (from nbformat>=4.2->plotly==2.0.12) (4.4.0)\n",
      "Requirement already satisfied: chardet<3.1.0,>=3.0.2 in c:\\users\\ranga chari\\anaconda3\\lib\\site-packages (from requests->plotly==2.0.12) (3.0.4)\n",
      "Requirement already satisfied: idna<2.7,>=2.5 in c:\\users\\ranga chari\\anaconda3\\lib\\site-packages (from requests->plotly==2.0.12) (2.6)\n",
      "Requirement already satisfied: urllib3<1.23,>=1.21.1 in c:\\users\\ranga chari\\anaconda3\\lib\\site-packages (from requests->plotly==2.0.12) (1.22)\n",
      "Requirement already satisfied: certifi>=2017.4.17 in c:\\users\\ranga chari\\anaconda3\\lib\\site-packages (from requests->plotly==2.0.12) (2018.4.16)\n",
      "Building wheels for collected packages: plotly\n",
      "  Running setup.py bdist_wheel for plotly: started\n",
      "  Running setup.py bdist_wheel for plotly: finished with status 'done'\n",
      "  Stored in directory: C:\\Users\\Ranga Chari\\AppData\\Local\\pip\\Cache\\wheels\\59\\db\\d9\\6bd88077235a791ab64292bdb0587bec3917c6a7f2c311c671\n",
      "Successfully built plotly\n",
      "Installing collected packages: plotly\n",
      "  Found existing installation: plotly 2.5.1\n",
      "    Uninstalling plotly-2.5.1:\n",
      "      Successfully uninstalled plotly-2.5.1\n",
      "Successfully installed plotly-2.0.12\n"
     ]
    }
   ],
   "source": [
    "!pip install dash==0.17.7 \n",
    "!pip install dash-renderer==0.7.3 \n",
    "!pip install dash-html-components==0.6.2 \n",
    "!pip install dash-core-components==0.5.3 \n",
    "!pip install plotly==2.0.12 \n",
    "\n"
   ]
  },
  {
   "cell_type": "code",
   "execution_count": 20,
   "metadata": {},
   "outputs": [],
   "source": [
    "import dash\n",
    "import dash_core_components as dcc\n",
    "import dash_html_components as html"
   ]
  },
  {
   "cell_type": "code",
   "execution_count": 21,
   "metadata": {},
   "outputs": [],
   "source": [
    "app = dash.Dash()"
   ]
  },
  {
   "cell_type": "code",
   "execution_count": 22,
   "metadata": {},
   "outputs": [],
   "source": [
    "app.layout = html.Div('Dash101')"
   ]
  },
  {
   "cell_type": "code",
   "execution_count": 23,
   "metadata": {},
   "outputs": [
    {
     "name": "stderr",
     "output_type": "stream",
     "text": [
      " * Restarting with stat\n"
     ]
    },
    {
     "ename": "SystemExit",
     "evalue": "1",
     "output_type": "error",
     "traceback": [
      "An exception has occurred, use %tb to see the full traceback.\n",
      "\u001b[1;31mSystemExit\u001b[0m\u001b[1;31m:\u001b[0m 1\n"
     ]
    },
    {
     "name": "stderr",
     "output_type": "stream",
     "text": [
      "C:\\Users\\Ranga Chari\\Anaconda3\\lib\\site-packages\\IPython\\core\\interactiveshell.py:2870: UserWarning:\n",
      "\n",
      "To exit: use 'exit', 'quit', or Ctrl-D.\n",
      "\n"
     ]
    }
   ],
   "source": [
    "if __name__ == '__main__':\n",
    "    app.run_server(debug=True)"
   ]
  },
  {
   "cell_type": "code",
   "execution_count": null,
   "metadata": {},
   "outputs": [],
   "source": []
  }
 ],
 "metadata": {
  "kernelspec": {
   "display_name": "Python 3",
   "language": "python",
   "name": "python3"
  },
  "language_info": {
   "codemirror_mode": {
    "name": "ipython",
    "version": 3
   },
   "file_extension": ".py",
   "mimetype": "text/x-python",
   "name": "python",
   "nbconvert_exporter": "python",
   "pygments_lexer": "ipython3",
   "version": "3.6.3"
  }
 },
 "nbformat": 4,
 "nbformat_minor": 2
}
